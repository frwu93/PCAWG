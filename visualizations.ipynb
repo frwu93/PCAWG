{
 "cells": [
  {
   "cell_type": "code",
   "execution_count": 72,
   "id": "improved-miami",
   "metadata": {},
   "outputs": [],
   "source": [
    "import pandas as pd\n",
    "import os\n",
    "from BitVector import BitVector\n",
    "import sys\n",
    "import time \n",
    "import csv\n",
    "import vcf\n",
    "import gzip\n",
    "import shutil\n",
    "import matplotlib.pyplot as plt\n"
   ]
  },
  {
   "cell_type": "code",
   "execution_count": 10,
   "id": "neural-anatomy",
   "metadata": {},
   "outputs": [],
   "source": [
    "#read output files\n",
    "both_file = open('output_K562_distal_both_FDR_0.1.txt', 'r')\n",
    "both = both_file.readlines()\n",
    "\n",
    "depleted_file = open('output_K562_distal_depleted_FDR_0.1.txt', 'r')\n",
    "depleted = depleted_file.readlines()\n",
    "\n",
    "enriched_file = open('output_K562_distal_enriched_FDR_0.1.txt', 'r')\n",
    "enriched = enriched_file.readlines()\n",
    "\n",
    "nonsig_file = open('output_K562_distal_nonsig_FDR_0.1.txt', 'r')\n",
    "nonsig = nonsig_file.readlines()\n",
    "\n",
    "allregions = [both, depleted, enriched, nonsig]"
   ]
  },
  {
   "cell_type": "code",
   "execution_count": 11,
   "id": "united-subscriber",
   "metadata": {},
   "outputs": [],
   "source": [
    "def findNumFiles(lines):\n",
    "    count = 0\n",
    "    for line in lines:\n",
    "        if 'Record' not in line:\n",
    "            count+=1\n",
    "    return count\n"
   ]
  },
  {
   "cell_type": "code",
   "execution_count": 12,
   "id": "working-chamber",
   "metadata": {},
   "outputs": [
    {
     "name": "stdout",
     "output_type": "stream",
     "text": [
      "both: 500\n",
      "depleted: 1020\n",
      "enriched: 470\n",
      "nonsig: 72\n"
     ]
    }
   ],
   "source": [
    "print('both: ' + str(findNumFiles(both)))\n",
    "print('depleted: ' + str(findNumFiles(depleted)))\n",
    "print('enriched: ' + str(findNumFiles(enriched)))\n",
    "print('nonsig: ' + str(findNumFiles(nonsig)))"
   ]
  },
  {
   "cell_type": "code",
   "execution_count": 13,
   "id": "retired-population",
   "metadata": {},
   "outputs": [],
   "source": [
    "def findNumHits(lines):\n",
    "    count = 0\n",
    "    for line in lines:\n",
    "        if 'Record' in line:\n",
    "            count+=1\n",
    "    return count"
   ]
  },
  {
   "cell_type": "code",
   "execution_count": 14,
   "id": "regulation-watershed",
   "metadata": {},
   "outputs": [
    {
     "name": "stdout",
     "output_type": "stream",
     "text": [
      "both: 966\n",
      "depleted: 3161\n",
      "enriched: 842\n",
      "nonsig: 81\n"
     ]
    }
   ],
   "source": [
    "print('both: ' + str(findNumHits(both)))\n",
    "print('depleted: ' + str(findNumHits(depleted)))\n",
    "print('enriched: ' + str(findNumHits(enriched)))\n",
    "print('nonsig: ' + str(findNumHits(nonsig)))"
   ]
  },
  {
   "cell_type": "code",
   "execution_count": 15,
   "id": "unknown-johnston",
   "metadata": {},
   "outputs": [],
   "source": [
    "def findVarClassificationDist(lines):\n",
    "    variants = {}\n",
    "    count = 0\n",
    "    for line in lines:\n",
    "        if 'Record' in line:\n",
    "            record_halves = line.split('....') \n",
    "            info = record_halves[1]\n",
    "            parts = info.split(';')\n",
    "            for part in parts:\n",
    "                if 'Variant_Classification' in part:\n",
    "                    var_classification = part[22:]\n",
    "                    if var_classification not in variants:\n",
    "                        variants[var_classification] = 0\n",
    "                    variants[var_classification] +=1\n",
    "    return variants\n",
    "            \n",
    "        \n",
    "    "
   ]
  },
  {
   "cell_type": "code",
   "execution_count": 16,
   "id": "worthy-navigator",
   "metadata": {},
   "outputs": [
    {
     "name": "stdout",
     "output_type": "stream",
     "text": [
      "{'Intron': 373, 'IGR': 440, 'lincRNA': 47, 'Missense_Mutation': 26, \"3'UTR\": 30, 'RNA': 42, 'Silent': 5, \"5'Flank\": 1, \"5'UTR\": 2}\n"
     ]
    }
   ],
   "source": [
    "print(findVarClassificationDist(both))"
   ]
  },
  {
   "cell_type": "code",
   "execution_count": 34,
   "id": "suffering-manhattan",
   "metadata": {},
   "outputs": [],
   "source": [
    "def findNumHitsPerFile(allregions):\n",
    "    file_map = {}\n",
    "    for region in allregions:\n",
    "        current_entry = \"\"\n",
    "        for entry in region:\n",
    "            if 'Record' not in entry: #if we're at a file name\n",
    "                current_entry = entry\n",
    "                if entry not in file_map:\n",
    "                    file_map[entry] = 0\n",
    "            else:\n",
    "                file_map[current_entry] +=1\n",
    "    return file_map"
   ]
  },
  {
   "cell_type": "code",
   "execution_count": 82,
   "id": "instructional-international",
   "metadata": {},
   "outputs": [
    {
     "name": "stdout",
     "output_type": "stream",
     "text": [
      "1239\n",
      "-1031\n",
      "None\n",
      "[161, 153, 125, 118, 103, 76, 71, 64, 63, 61, 50, 45, 42, 39, 38, 38, 35, 34, 32, 31, 29, 27, 27, 26, 24, 24, 22, 22, 22, 21, 21, 21, 19, 19, 18, 18, 18, 17, 17, 15, 15, 15, 15, 14, 14, 14, 14, 13, 13, 13, 13, 12, 12, 12, 12, 11, 11, 11, 11, 10, 10, 10, 10, 10, 10, 10, 10, 10, 10, 10, 9, 9, 9, 9, 9, 9, 9, 9, 9, 9, 9, 8, 8, 8, 8, 8, 8, 8, 8, 8, 8, 8, 8, 8, 8, 8, 8, 7, 7, 7, 7, 7, 7, 7, 7, 7, 7, 7, 7, 7, 7, 7, 6, 6, 6, 6, 6, 6, 6, 6, 6, 6, 6, 6, 6, 6, 6, 6, 6, 6, 6, 6, 6, 6, 6, 6, 6, 6, 6, 6, 6, 6, 6, 6, 6, 6, 6, 6, 6, 6, 5, 5, 5, 5, 5, 5, 5, 5, 5, 5, 5, 5, 5, 5, 5, 5, 5, 5, 5, 5, 5, 5, 5, 5, 5, 5, 5, 5, 5, 5, 5, 5, 5, 5, 5, 5, 5, 5, 5, 5, 5, 5, 5, 5, 5, 5, 5, 5, 5, 5, 5, 5, 5, 5, 5, 5, 5, 5]\n"
     ]
    }
   ],
   "source": [
    "hitsPerFile = findNumHitsPerFile(allregions)\n",
    "print(len(hitsPerFile))\n",
    "lst_of_num_hits = []\n",
    "for entry in hitsPerFile:\n",
    "    lst_of_num_hits.append(hitsPerFile[entry])\n",
    "\n",
    "shortened = []\n",
    "for i in lst_of_num_hits:\n",
    "    if i >4:\n",
    "        shortened.append(i)\n",
    "        \n",
    "print(len(shortened) - len(lst_of_num_hits))\n",
    "print(shortened.sort(reverse=True))\n",
    "print(shortened)"
   ]
  },
  {
   "cell_type": "code",
   "execution_count": 78,
   "id": "addressed-light",
   "metadata": {},
   "outputs": [
    {
     "data": {
      "text/plain": [
       "Text(0, 0.5, 'Number of Sequences')"
      ]
     },
     "execution_count": 78,
     "metadata": {},
     "output_type": "execute_result"
    },
    {
     "data": {
      "image/png": "[encoded data removed]",
      "text/plain": [
       "<Figure size 432x288 with 1 Axes>"
      ]
     },
     "metadata": {
      "needs_background": "light"
     },
     "output_type": "display_data"
    }
   ],
   "source": [
    "hist_stuff = pd.Series(shortened)\n",
    "bins_list = [0,20,40,60,80,100,120,140,160]\n",
    "\n",
    "plt.hist(shortened,bins=bins_list,color='#607c8e')\n",
    "plt.grid()\n",
    "plt.title(\"Distribution of Number of Hits Per Whole Genome Sequence\")\n",
    "plt.xlabel(\"Number of Total Hits\")\n",
    "plt.ylabel(\"Number of Sequences\")\n"
   ]
  },
  {
   "cell_type": "code",
   "execution_count": null,
   "id": "occupied-suspension",
   "metadata": {},
   "outputs": [],
   "source": [
    "#see which region had the most hits"
   ]
  }
 ],
 "metadata": {
  "kernelspec": {
   "display_name": "Python 3",
   "language": "python",
   "name": "python3"
  },
  "language_info": {
   "codemirror_mode": {
    "name": "ipython",
    "version": 3
   },
   "file_extension": ".py",
   "mimetype": "text/x-python",
   "name": "python",
   "nbconvert_exporter": "python",
   "pygments_lexer": "ipython3",
   "version": "3.9.0"
  }
 },
 "nbformat": 4,
 "nbformat_minor": 5
}
